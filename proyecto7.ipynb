{
 "cells": [
  {
   "cell_type": "markdown",
   "metadata": {},
   "source": [
    "### Paso 4. Análisis exploratorio de datos (Python)"
   ]
  },
  {
   "cell_type": "markdown",
   "metadata": {},
   "source": [
    "Además de los datos que recuperaste en las tareas anteriores te han dado un segundo archivo. Ahora tienes estos dos CSV:\n",
    "\n",
    "project_sql_result_01.csv. Contiene los siguientes datos:\n",
    "- company_name: nombre de la empresa de taxis\n",
    "- trips_amount: el número de viajes de cada compañía de taxis el 15 y 16 de noviembre de 2017.\n",
    "\n",
    "project_sql_result_04.csv. Contiene los siguientes datos:\n",
    "- dropoff_location_name: barrios de Chicago donde finalizaron los viajes\n",
    "- average_trips: el promedio de viajes que terminaron en cada barrio en noviembre de 2017.\n",
    "\n",
    "Para estos dos datasets ahora necesitas:\n",
    "\n",
    "- importar los archivos\n",
    "- estudiar los datos que contienen\n",
    "- asegurarte de que los tipos de datos sean correctos\n",
    "- identificar los 10 principales barrios en términos de finalización\n",
    "- hacer gráficos: empresas de taxis y número de viajes, los 10 barrios principales por número de finalizaciones\n",
    "- sacar conclusiones basadas en cada gráfico y explicar los resultados"
   ]
  },
  {
   "cell_type": "code",
   "execution_count": 1,
   "metadata": {},
   "outputs": [
    {
     "ename": "ModuleNotFoundError",
     "evalue": "No module named 'pandas'",
     "output_type": "error",
     "traceback": [
      "\u001b[1;31m---------------------------------------------------------------------------\u001b[0m",
      "\u001b[1;31mModuleNotFoundError\u001b[0m                       Traceback (most recent call last)",
      "Cell \u001b[1;32mIn[1], line 2\u001b[0m\n\u001b[0;32m      1\u001b[0m \u001b[38;5;66;03m# Importar bibliotecas\u001b[39;00m\n\u001b[1;32m----> 2\u001b[0m \u001b[38;5;28;01mimport\u001b[39;00m \u001b[38;5;21;01mpandas\u001b[39;00m \u001b[38;5;28;01mas\u001b[39;00m \u001b[38;5;21;01mpd\u001b[39;00m\n\u001b[0;32m      3\u001b[0m \u001b[38;5;28;01mimport\u001b[39;00m \u001b[38;5;21;01mmatplotlib\u001b[39;00m\u001b[38;5;21;01m.\u001b[39;00m\u001b[38;5;21;01mpyplot\u001b[39;00m \u001b[38;5;28;01mas\u001b[39;00m \u001b[38;5;21;01mplt\u001b[39;00m\n\u001b[0;32m      4\u001b[0m \u001b[38;5;28;01mfrom\u001b[39;00m \u001b[38;5;21;01mIPython\u001b[39;00m\u001b[38;5;21;01m.\u001b[39;00m\u001b[38;5;21;01mdisplay\u001b[39;00m \u001b[38;5;28;01mimport\u001b[39;00m HTML\n",
      "\u001b[1;31mModuleNotFoundError\u001b[0m: No module named 'pandas'"
     ]
    }
   ],
   "source": [
    "# Importar bibliotecas\n",
    "import pandas as pd\n",
    "import matplotlib.pyplot as plt\n",
    "from IPython.display import HTML\n",
    "from scipy import stats as st\n",
    "\n"
   ]
  },
  {
   "cell_type": "code",
   "execution_count": 2,
   "metadata": {},
   "outputs": [],
   "source": [
    "# Importar Archivos para los dataframes\n",
    "df1= pd.read_csv(\"datasets/project_sql_result_01.csv\")\n",
    "df2 = pd.read_csv(\"datasets/project_sql_result_04.csv\")\n",
    "df3 = pd.read_csv(\"datasets/project_sql_result_07.csv\")"
   ]
  },
  {
   "cell_type": "code",
   "execution_count": null,
   "metadata": {},
   "outputs": [],
   "source": [
    "# Estudiar los datos contenidos en los dataframe y verificar los tipos de datos\n",
    "\n",
    "# Primer dataframe\n",
    "display(HTML('<h1> Datos de compañias: '))\n",
    "display(df1.head())\n",
    "display(df1.info())\n",
    "display(HTML('<hr>'))\n",
    "\n",
    "# Segundo Dataframe\n",
    "display(HTML('<h1> Datos de finalizacion de los viajes: '))\n",
    "display(df2.head())\n",
    "display(df2.info())\n",
    "display(HTML('<hr>'))\n",
    "\n",
    "# Tercer dataframe\n",
    "display(HTML('<h1> Datos de condiciones climaticas de los viajes: '))\n",
    "display(df3.head(10))\n",
    "display(df3.info())"
   ]
  },
  {
   "cell_type": "code",
   "execution_count": null,
   "metadata": {},
   "outputs": [],
   "source": [
    "# Identificar los 10 barrios principales en termino de finalizacion\n",
    "top_10_dropoff = df2.sort_values(by = 'average_trips' ,ascending=False).head(10)\n",
    "display(HTML('<H2> Los principales 10 barrios en terminos de finalizacion del recorrido:'))\n",
    "display(top_10_dropoff)"
   ]
  },
  {
   "cell_type": "code",
   "execution_count": null,
   "metadata": {},
   "outputs": [],
   "source": [
    "# Grafico Empresas de taxi y numero de viajes\n",
    "top_10_taxi_company = df1.head(10)\n",
    "\n",
    "plt.figure(figsize=(12,6))\n",
    "plt.bar(top_10_taxi_company['company_name'], top_10_taxi_company['trips_amount'])\n",
    "plt.xticks(rotation=90)\n",
    "plt.xlabel('Empresa de taxis')\n",
    "plt.ylabel('Numero de viajes')\n",
    "plt.title('Numero de viajes por empresa de Taxis')\n",
    "plt.show()\n"
   ]
  },
  {
   "cell_type": "markdown",
   "metadata": {},
   "source": [
    "#### Conclusion grafico de Numero de viajes por empresa de Taxis"
   ]
  },
  {
   "cell_type": "markdown",
   "metadata": {},
   "source": [
    "En este grafico se representa la cantidad de viajes realizados para las 10 principales compañias, las compañias que presentan mas cantidad de viaje.\n",
    "\n",
    "A continuacion las barras indican en orden descendente las compañias con mas viajes comenzando por Flash cab.\n",
    "\n",
    "Flash cab figura como la compañia que mas viajes realiza destacandose del resto de las compañias por su gran volumen de viajes a comparacion del resto de compañias, podemos notar como el resto de las compañias se presenta una disminucion progresiva en la cantidad de viajes realizados pero sin tanta diferencia como lo es del top 1 al 2.\n",
    "\n",
    "Hablando de cifras exactas estamos hablando que Flash cab posee 19558 viajes realizados en el top 1 mientras que el top 2 Taxi Affiliation Services muestra 11422 viajes, dejando una diferencia de 8136 viajes; Mientras que del top 2 al top 3(Medallion Leasin con 10367 viajes) hay una diferencia de 1055 viajes."
   ]
  },
  {
   "cell_type": "code",
   "execution_count": null,
   "metadata": {},
   "outputs": [],
   "source": [
    "# Top 10 Barrios por Promedio de Finalizaciones de Viaje\n",
    "plt.figure(figsize=(12,6))\n",
    "plt.bar(top_10_dropoff['dropoff_location_name'], top_10_dropoff['average_trips'])\n",
    "plt.xticks(rotation=90)\n",
    "plt.xlabel('Barrio de Finalización del Viaje')\n",
    "plt.ylabel('Promedio de Viajes')\n",
    "plt.title('Top 10 Barrios por Promedio de Finalizaciones de Viaje')\n",
    "plt.show()\n"
   ]
  },
  {
   "cell_type": "markdown",
   "metadata": {},
   "source": [
    "#### Conclusion de grafico de Top 10 Barrios por Promedio de Finalizaciones de Viaje"
   ]
  },
  {
   "cell_type": "markdown",
   "metadata": {},
   "source": [
    "En este grafico de barras representa un top 10 de los barrios que son mas frecuentados por las compañias de taxi.\n",
    "\n",
    "Se puede observar que el barrio mas visitado es el barrio \"Loop\" seguido de \"River North\" y \"Streeterville\"; mientras que los barrios \"Gold Coast\" y \"Sheffield & DePaul\" son los menos visitados de estos 10 barrios.\n",
    "\n",
    "Podemos observar que el barrio Loop es el mas frecuentado de los 10 barrios mostrados en la grafica, un promedio elevado sugiere que esta es una zona o area clave en terminos de activiadad economica, turimso o densidad de poblacion. Para las compañias de taxi estos barrios podrian ser areas prioritarias y con base a ello desempeñar medidas para mejorar su servicio en estas zonas."
   ]
  },
  {
   "cell_type": "markdown",
   "metadata": {},
   "source": [
    "### Paso 5. Prueba de hipótesis (Python)"
   ]
  },
  {
   "cell_type": "markdown",
   "metadata": {},
   "source": [
    "#### Hipotesis: \"La duración promedio de los viajes desde el Loop hasta el Aeropuerto Internacional O'Hare cambia los sábados lluviosos\""
   ]
  },
  {
   "cell_type": "markdown",
   "metadata": {},
   "source": [
    "Para probar la hipotesis vamos a plantear primeros las hipotesis nula (H0) y la alternativa (H1) tambien para este caro vamos a establecer el valor de alpha en 0.05 lo cual significa que estmos dispuestos a aceptar un 5% de probabilidad de rechazar la hipotesis nula cuando en realidad es verdadera (Error de tipo 1)\n",
    "\n",
    "Hipotesis nula (H0): La duración promedio de los viajes desde el Loop hasta el Aeropuerto Internacional O'Hare NO cambia los sábados lluviosos.\n",
    "\n",
    "Hipotesis Alternativa (H1): La duración promedio de los viajes desde el Loop hasta el Aeropuerto Internacional O'Hare cambia los sábados lluviosos\n",
    "\n",
    "Alpha = 0.05"
   ]
  },
  {
   "cell_type": "code",
   "execution_count": null,
   "metadata": {
    "scrolled": true
   },
   "outputs": [],
   "source": [
    "# Filtramos datos para las condiciones buenas y malas del clima\n",
    "good_weather = df3[df3['weather_conditions'] == 'Good']['duration_seconds']\n",
    "bad_weather = df3[df3['weather_conditions'] == 'Bad']['duration_seconds']\n",
    "\n",
    "\n",
    "# Establecemos valor alpha\n",
    "alpha = 0.05\n",
    "\n",
    "# Realizamos la prueba t para los generos Action y Sports\n",
    "results = st.ttest_ind(good_weather, bad_weather)\n",
    "\n",
    "# Mostramos el Valor de P\n",
    "print('valor p:', results.pvalue)  \n",
    "\n",
    "# Si p es menos que alpha podemos rechazar la hipotesis nula \n",
    "if (results.pvalue < alpha):\n",
    "    print(\"Aprobamos Hipotesis Alternativa\")\n",
    "    print(\"Hipotesis Alternativa (H1): La duración promedio de los viajes desde el Loop hasta el Aeropuerto Internacional O'Hare cambia los sábados lluviosos\")\n",
    "else:\n",
    "    print(\"Aprobamos la Hipotesis Nula\")\n",
    "    print(\"Hipotesis nula (H0): La duración promedio de los viajes desde el Loop hasta el Aeropuerto Internacional O'Hare NO cambia los sábados lluviosos.\")\n"
   ]
  }
 ],
 "metadata": {
  "kernelspec": {
   "display_name": "Python 3 (ipykernel)",
   "language": "python",
   "name": "python3"
  },
  "language_info": {
   "codemirror_mode": {
    "name": "ipython",
    "version": 3
   },
   "file_extension": ".py",
   "mimetype": "text/x-python",
   "name": "python",
   "nbconvert_exporter": "python",
   "pygments_lexer": "ipython3",
   "version": "3.12.6"
  },
  "toc": {
   "base_numbering": 1,
   "nav_menu": {},
   "number_sections": true,
   "sideBar": true,
   "skip_h1_title": true,
   "title_cell": "Table of Contents",
   "title_sidebar": "Contents",
   "toc_cell": false,
   "toc_position": {},
   "toc_section_display": true,
   "toc_window_display": false
  }
 },
 "nbformat": 4,
 "nbformat_minor": 2
}
